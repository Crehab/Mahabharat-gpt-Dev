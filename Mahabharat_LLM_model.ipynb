{
  "nbformat": 4,
  "nbformat_minor": 0,
  "metadata": {
    "colab": {
      "provenance": [],
      "authorship_tag": "ABX9TyMh+NCff65vXFjyQbhd/Lb2",
      "include_colab_link": true
    },
    "kernelspec": {
      "name": "python3",
      "display_name": "Python 3"
    },
    "language_info": {
      "name": "python"
    }
  },
  "cells": [
    {
      "cell_type": "markdown",
      "metadata": {
        "id": "view-in-github",
        "colab_type": "text"
      },
      "source": [
        "<a href=\"https://colab.research.google.com/github/Crehab/Mahabharat-gpt-Dev/blob/master/Mahabharat_LLM_model.ipynb\" target=\"_parent\"><img src=\"https://colab.research.google.com/assets/colab-badge.svg\" alt=\"Open In Colab\"/></a>"
      ]
    },
    {
      "cell_type": "code",
      "execution_count": 1,
      "metadata": {
        "colab": {
          "base_uri": "https://localhost:8080/"
        },
        "id": "tXFM7GJySZ7o",
        "outputId": "3040220d-0278-48b4-b750-8172946ed81b"
      },
      "outputs": [
        {
          "output_type": "stream",
          "name": "stdout",
          "text": [
            "--2024-12-10 06:52:13--  https://github.com/Crehab/Mahabharat-gpt-Dev/blob/master/Building%20an%20LLM/Dataset/maha.txt/mahabharat%20dataset.txt\n",
            "Resolving github.com (github.com)... 140.82.114.4\n",
            "Connecting to github.com (github.com)|140.82.114.4|:443... connected.\n",
            "HTTP request sent, awaiting response... 200 OK\n",
            "Length: unspecified [text/html]\n",
            "Saving to: ‘mahabharat dataset.txt’\n",
            "\n",
            "mahabharat dataset.     [ <=>                ] 164.21K  --.-KB/s    in 0.1s    \n",
            "\n",
            "2024-12-10 06:52:13 (1.66 MB/s) - ‘mahabharat dataset.txt’ saved [168150]\n",
            "\n"
          ]
        }
      ],
      "source": [
        "#lets import the dataset of mahabharat.\n",
        "!wget https://github.com/Crehab/Mahabharat-gpt-Dev/blob/master/Building%20an%20LLM/Dataset/maha.txt/mahabharat%20dataset.txt\n"
      ]
    },
    {
      "cell_type": "code",
      "source": [
        "#reading all the texts as the strings\n",
        "with open('mahabharat dataset', 'r', encoding='utf-8') as f: text = f.read()"
      ],
      "metadata": {
        "colab": {
          "base_uri": "https://localhost:8080/",
          "height": 163
        },
        "id": "6n47CcbJqRgd",
        "outputId": "22df79f6-407c-4ebb-cf53-19b6af75ab02"
      },
      "execution_count": 2,
      "outputs": [
        {
          "output_type": "error",
          "ename": "FileNotFoundError",
          "evalue": "[Errno 2] No such file or directory: 'mahabharat dataset'",
          "traceback": [
            "\u001b[0;31m---------------------------------------------------------------------------\u001b[0m",
            "\u001b[0;31mFileNotFoundError\u001b[0m                         Traceback (most recent call last)",
            "\u001b[0;32m<ipython-input-2-0c42ff4c9cb5>\u001b[0m in \u001b[0;36m<cell line: 2>\u001b[0;34m()\u001b[0m\n\u001b[1;32m      1\u001b[0m \u001b[0;31m#reading all the texts as the strings\u001b[0m\u001b[0;34m\u001b[0m\u001b[0;34m\u001b[0m\u001b[0m\n\u001b[0;32m----> 2\u001b[0;31m \u001b[0;32mwith\u001b[0m \u001b[0mopen\u001b[0m\u001b[0;34m(\u001b[0m\u001b[0;34m'mahabharat dataset'\u001b[0m\u001b[0;34m,\u001b[0m \u001b[0;34m'r'\u001b[0m\u001b[0;34m,\u001b[0m \u001b[0mencoding\u001b[0m\u001b[0;34m=\u001b[0m\u001b[0;34m'utf-8'\u001b[0m\u001b[0;34m)\u001b[0m \u001b[0;32mas\u001b[0m \u001b[0mf\u001b[0m\u001b[0;34m:\u001b[0m \u001b[0mtext\u001b[0m \u001b[0;34m=\u001b[0m \u001b[0mf\u001b[0m\u001b[0;34m.\u001b[0m\u001b[0mread\u001b[0m\u001b[0;34m(\u001b[0m\u001b[0;34m)\u001b[0m\u001b[0;34m\u001b[0m\u001b[0;34m\u001b[0m\u001b[0m\n\u001b[0m",
            "\u001b[0;31mFileNotFoundError\u001b[0m: [Errno 2] No such file or directory: 'mahabharat dataset'"
          ]
        }
      ]
    },
    {
      "cell_type": "code",
      "source": [
        "#lets import the dataset of mahabharat.\n",
        "!wget https://raw.githubusercontent.com/Crehab/Mahabharat-gpt-Dev/master/Building%20an%20LLM/Dataset/maha.txt/mahabharat%20dataset.txt"
      ],
      "metadata": {
        "colab": {
          "base_uri": "https://localhost:8080/"
        },
        "id": "3RvDDJxFsDiU",
        "outputId": "75a58cf9-7c01-416c-aa53-40778f71f135"
      },
      "execution_count": 3,
      "outputs": [
        {
          "output_type": "stream",
          "name": "stdout",
          "text": [
            "--2024-12-10 08:33:10--  https://raw.githubusercontent.com/Crehab/Mahabharat-gpt-Dev/master/Building%20an%20LLM/Dataset/maha.txt/mahabharat%20dataset.txt\n",
            "Resolving raw.githubusercontent.com (raw.githubusercontent.com)... 185.199.108.133, 185.199.109.133, 185.199.110.133, ...\n",
            "Connecting to raw.githubusercontent.com (raw.githubusercontent.com)|185.199.108.133|:443... connected.\n",
            "HTTP request sent, awaiting response... 200 OK\n",
            "Length: 10633431 (10M) [text/plain]\n",
            "Saving to: ‘mahabharat dataset.txt’\n",
            "\n",
            "mahabharat dataset. 100%[===================>]  10.14M  --.-KB/s    in 0.1s    \n",
            "\n",
            "2024-12-10 08:33:10 (96.9 MB/s) - ‘mahabharat dataset.txt’ saved [10633431/10633431]\n",
            "\n"
          ]
        }
      ]
    },
    {
      "cell_type": "code",
      "source": [
        "#reading all the texts as the strings\n",
        "with open('mahabharat dataset.txt', 'r', encoding='utf-8') as f: text = f.read()"
      ],
      "metadata": {
        "id": "mwBjET4os_ZX"
      },
      "execution_count": 4,
      "outputs": []
    },
    {
      "cell_type": "code",
      "source": [
        "print(\"Length of the Dataset in Characters --> \",len(text))"
      ],
      "metadata": {
        "colab": {
          "base_uri": "https://localhost:8080/"
        },
        "id": "VBa04CMttY4D",
        "outputId": "2957bbf8-8f7f-466f-8b74-2c945b7dd492"
      },
      "execution_count": 5,
      "outputs": [
        {
          "output_type": "stream",
          "name": "stdout",
          "text": [
            "Length of the Dataset in Characters -->  10459665\n"
          ]
        }
      ]
    },
    {
      "cell_type": "code",
      "source": [
        "#print first 2000 characters.\n",
        "print(text[:2000])"
      ],
      "metadata": {
        "colab": {
          "base_uri": "https://localhost:8080/"
        },
        "id": "hMGUreSIuS8d",
        "outputId": "d3433ed5-44ce-48d6-d65b-80352fafa54c"
      },
      "execution_count": 6,
      "outputs": [
        {
          "output_type": "stream",
          "name": "stdout",
          "text": [
            "﻿TRANSLATOR'S PREFACE \n",
            "\n",
            "The object of a translator should ever be to hold the mirror upto his author. That being so, his chief duty \n",
            "is to represent so far as practicable the manner in which his author's ideas have been expressed, retaining \n",
            "if possible at the sacrifice of idiom and taste all the peculiarities of his author's imagery and of language \n",
            "as well. In regard to translations from the Sanskrit, nothing is easier than to dish up Hindu ideas, so as to \n",
            "make them agreeable to English taste. But the endeavour of the present translator has been to give in the \n",
            "following pages as literal a rendering as possible of the great work of Vyasa. To the purely English \n",
            "reader there is much in the following pages that will strike as ridiculous. Those unacquainted with any \n",
            "language but their own are generally very exclusive in matters of taste. Having no knowledge of models \n",
            "other than what they meet with in their own tongue, the standard they have formed of purity and taste in \n",
            "composition must necessarily be a narrow one. The translator, however, would ill-discharge his duty, if \n",
            "for the sake of avoiding ridicule, he sacrificed fidelity to the original. He must represent his author as he \n",
            "is, not as he should be to please the narrow taste of those entirely unacquainted with him. Mr. Pickford, \n",
            "in the preface to his English translation of the Mahavira Charita, ably defends a close adherence to the \n",
            "original even at the sacrifice of idiom and taste against the claims of what has been called 'Free \n",
            "Translation,' which means dressing the author in an outlandish garb to please those to whom he is \n",
            "introduced. \n",
            "\n",
            "In the preface to his classical translation of Bhartrihari's Niti Satakam and Vairagya Satakam, Mr. C.H. \n",
            "Tawney says, \"I am sensible that in the present attempt I have retained much local colouring. For \n",
            "instance, the ideas of worshipping the feet of a god of great men, though it frequently occurs in Indian \n",
            "literature, will undoubtedly move the laughter of Englishme\n"
          ]
        }
      ]
    },
    {
      "cell_type": "code",
      "source": [
        "#unique chracters that occured in the text, possible characters that the model can see or emit.\n",
        "chars = sorted(list(set(text)))\n",
        "vocab_size = len(chars) #vocabulory size. possible elements of our sequences.\n",
        "print(''.join(chars))\n",
        "print(vocab_size)"
      ],
      "metadata": {
        "colab": {
          "base_uri": "https://localhost:8080/"
        },
        "id": "5pO6jF5Bu9Si",
        "outputId": "9f3fa66a-e5bb-4f00-9b69-3ce6feb1e513"
      },
      "execution_count": 7,
      "outputs": [
        {
          "output_type": "stream",
          "name": "stdout",
          "text": [
            "\n",
            " !\"#&'()*,-./0123456789:;?ABCDEFGHIJKLMNOPQRSTUVWXYZ[\\]^_abcdefghijklmnopqrstuvwxyz{}~«Āā–”€﻿\n",
            "94\n"
          ]
        }
      ]
    },
    {
      "cell_type": "code",
      "source": [
        "#create a mapping from characters to integers\n",
        "stoi = { ch:i for i,ch in enumerate(chars) }\n",
        "itos = { i:ch for i,ch in enumerate(chars) }\n",
        "encode = lambda s: [stoi[c] for c in s] #encoder: take a string, output a list of integers\n",
        "decode = lambda l: ''.join([itos[i] for i in l]) #decoder: take a list of integers, output a string\n",
        "\n",
        "print(encode(\"Namaskara\"))\n",
        "print(decode(encode(\"Namaskara\")))"
      ],
      "metadata": {
        "colab": {
          "base_uri": "https://localhost:8080/"
        },
        "id": "hvOiJ3Ubzx18",
        "outputId": "1813f278-f017-4f9a-e7d4-a3b7c3269621"
      },
      "execution_count": 8,
      "outputs": [
        {
          "output_type": "stream",
          "name": "stdout",
          "text": [
            "[40, 58, 70, 58, 76, 68, 58, 75, 58]\n",
            "Namaskara\n"
          ]
        }
      ]
    }
  ]
}